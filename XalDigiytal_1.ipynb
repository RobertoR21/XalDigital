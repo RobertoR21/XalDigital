{
  "nbformat": 4,
  "nbformat_minor": 0,
  "metadata": {
    "colab": {
      "name": "XalDigiytal 1.ipynb",
      "provenance": [],
      "collapsed_sections": [],
      "authorship_tag": "ABX9TyMqZdheYLu+80fDngNaI1Mf",
      "include_colab_link": true
    },
    "kernelspec": {
      "name": "python3",
      "display_name": "Python 3"
    },
    "language_info": {
      "name": "python"
    }
  },
  "cells": [
    {
      "cell_type": "markdown",
      "metadata": {
        "id": "view-in-github",
        "colab_type": "text"
      },
      "source": [
        "<a href=\"https://colab.research.google.com/github/RobertoR21/XalDigital/blob/main/XalDigiytal_1.ipynb\" target=\"_parent\"><img src=\"https://colab.research.google.com/assets/colab-badge.svg\" alt=\"Open In Colab\"/></a>"
      ]
    },
    {
      "cell_type": "markdown",
      "source": [
        "##Importar librerias\n"
      ],
      "metadata": {
        "id": "3lAO0dwVYIjX"
      }
    },
    {
      "cell_type": "code",
      "execution_count": 141,
      "metadata": {
        "id": "y1xedFnmWRG8"
      },
      "outputs": [],
      "source": [
        "import requests\n",
        "import datetime\n",
        "import pandas as pd\n",
        "import matplotlib.pyplot as plt\n",
        "import plotly.express as px \n",
        "import datetime as dt"
      ]
    },
    {
      "cell_type": "markdown",
      "source": [
        "##Coneccion al enlace"
      ],
      "metadata": {
        "id": "6XgHCfPpYWd5"
      }
    },
    {
      "cell_type": "code",
      "source": [
        "api = 'https://api.stackexchange.com/2.2/search?order=desc&sort=activity&intitle=perl&site=stackoverflow'\n",
        "data = requests.get(api)\n",
        "if data.status_code == 200:\n",
        "  print('Coneccion exitosa')\n",
        "else:\n",
        "  print('Fallo en coneccion')"
      ],
      "metadata": {
        "colab": {
          "base_uri": "https://localhost:8080/"
        },
        "id": "yBB_LVEtWYpL",
        "outputId": "7011a03a-91b0-44e1-cfe2-8c807435376e"
      },
      "execution_count": 9,
      "outputs": [
        {
          "output_type": "stream",
          "name": "stdout",
          "text": [
            "Coneccion exitosa\n"
          ]
        }
      ]
    },
    {
      "cell_type": "markdown",
      "source": [
        "##Convertimos a DataFrame\n"
      ],
      "metadata": {
        "id": "m9onSJTFb2ly"
      }
    },
    {
      "cell_type": "code",
      "source": [
        "json_data = data.json()\n",
        "items = json_data['items']\n",
        "df = pd.DataFrame(items)\n",
        "df"
      ],
      "metadata": {
        "id": "6YG5qL_LYovS"
      },
      "execution_count": null,
      "outputs": []
    },
    {
      "cell_type": "code",
      "source": [
        "owners_list = df['owner'].tolist()\n",
        "owner_df = pd.DataFrame(owners_list)\n",
        "filter_owner_df = owner_df[['display_name', 'reputation', 'link']]"
      ],
      "metadata": {
        "id": "uHdNRzbvcGu0"
      },
      "execution_count": 32,
      "outputs": []
    },
    {
      "cell_type": "code",
      "source": [
        "df_filtered = df[['tags', 'title','is_answered','view_count', 'creation_date', 'last_activity_date', 'link']]"
      ],
      "metadata": {
        "id": "6Arr-IqljwU-"
      },
      "execution_count": 105,
      "outputs": []
    },
    {
      "cell_type": "code",
      "source": [
        "sample_df = pd.concat([df_filtered, filter_owner_df], axis = 1)\n",
        "sample_df"
      ],
      "metadata": {
        "id": "J2WAOoyBk5D2"
      },
      "execution_count": null,
      "outputs": []
    },
    {
      "cell_type": "markdown",
      "source": [
        "##Correccion de fechas"
      ],
      "metadata": {
        "id": "0cOd5AP9szQ5"
      }
    },
    {
      "cell_type": "code",
      "source": [
        "timestamp = sample_df['creation_date']\n",
        "values = []\n",
        "\n",
        "for ts in timestamp:\n",
        "    values.append(dt.datetime.fromtimestamp(int(ts)).date())"
      ],
      "metadata": {
        "id": "P4al5D6Ks2aa"
      },
      "execution_count": 114,
      "outputs": []
    },
    {
      "cell_type": "code",
      "source": [
        "sample_df['creation_date'] = values"
      ],
      "metadata": {
        "id": "cLVDuOr8tS1a"
      },
      "execution_count": 116,
      "outputs": []
    },
    {
      "cell_type": "code",
      "source": [
        "timestamp = sample_df['last_activity_date']\n",
        "values = []\n",
        "\n",
        "for ts in timestamp:\n",
        "    values.append(dt.datetime.fromtimestamp(int(ts)).date())"
      ],
      "metadata": {
        "id": "XZDeQfR0tMrR"
      },
      "execution_count": 117,
      "outputs": []
    },
    {
      "cell_type": "code",
      "source": [
        "sample_df['last_activity_date'] = values"
      ],
      "metadata": {
        "id": "c2WtCzR0tDO2"
      },
      "execution_count": 118,
      "outputs": []
    },
    {
      "cell_type": "code",
      "source": [
        "sample_df"
      ],
      "metadata": {
        "id": "nRZBvbNktKhk"
      },
      "execution_count": null,
      "outputs": []
    },
    {
      "cell_type": "markdown",
      "source": [
        "##Respuestas contestadas y no contestadas"
      ],
      "metadata": {
        "id": "_gY4vcSFmX2B"
      }
    },
    {
      "cell_type": "code",
      "source": [
        "df_respuestas = df['is_answered'].value_counts()\n",
        "df_respuestas"
      ],
      "metadata": {
        "colab": {
          "base_uri": "https://localhost:8080/"
        },
        "id": "LXh6sI3Mqueb",
        "outputId": "fdf9ea12-ad9a-430c-cc65-5a15d6e4763c"
      },
      "execution_count": 106,
      "outputs": [
        {
          "output_type": "execute_result",
          "data": {
            "text/plain": [
              "True     23\n",
              "False     7\n",
              "Name: is_answered, dtype: int64"
            ]
          },
          "metadata": {},
          "execution_count": 106
        }
      ]
    },
    {
      "cell_type": "markdown",
      "source": [
        "**Esto nos muestra que tenemos 23 preguntas contestadas y 7 no contestadas**"
      ],
      "metadata": {
        "id": "z79rcTuCrjaM"
      }
    },
    {
      "cell_type": "code",
      "source": [
        "df_respuestas = df['is_answered'].value_counts()\n",
        "df_respuestas = pd.DataFrame(df_respuestas)\n",
        "y = df_respuestas.index.tolist()"
      ],
      "metadata": {
        "id": "oXUTwlsOnfer"
      },
      "execution_count": 98,
      "outputs": []
    },
    {
      "cell_type": "code",
      "source": [
        "x_label_df = df_respuestas.set_index('is_answered', inplace = True)\n",
        "x = df_respuestas.index.tolist()"
      ],
      "metadata": {
        "id": "L9DQXKNwqJUC"
      },
      "execution_count": null,
      "outputs": []
    },
    {
      "cell_type": "markdown",
      "source": [
        "Con esta grafica podemos ver en porcentajes las preguntas que tienen respuesta y las que no tienen respuesta"
      ],
      "metadata": {
        "id": "PxUgL661rxcG"
      }
    },
    {
      "cell_type": "code",
      "source": [
        "fig, ax = plt.subplots()\n",
        "ax.pie(x, labels = y,  autopct='%1.2f%%')\n",
        "plt.show()"
      ],
      "metadata": {
        "colab": {
          "base_uri": "https://localhost:8080/",
          "height": 248
        },
        "id": "SLhSbuu1mdhp",
        "outputId": "5f5c6219-83b7-44b8-927d-740ae5528d62"
      },
      "execution_count": 84,
      "outputs": [
        {
          "output_type": "display_data",
          "data": {
            "text/plain": [
              "<Figure size 432x288 with 1 Axes>"
            ],
            "image/png": "[encoded data removed]"
          },
          "metadata": {}
        }
      ]
    },
    {
      "cell_type": "markdown",
      "source": [
        "##Respuesta con menor numero de vistas"
      ],
      "metadata": {
        "id": "9y2nMOlNruTV"
      }
    },
    {
      "cell_type": "code",
      "source": [
        "min_views = sample_df['view_count'].min()\n",
        "df_min_view = sample_df[sample_df['view_count'] == min_views]\n",
        "df_min_view"
      ],
      "metadata": {
        "colab": {
          "base_uri": "https://localhost:8080/",
          "height": 249
        },
        "id": "6JMGpeOKr_4H",
        "outputId": "21bb496f-b500-4a3e-ff9b-08db8a196248"
      },
      "execution_count": 111,
      "outputs": [
        {
          "output_type": "execute_result",
          "data": {
            "text/plain": [
              "                    tags                                              title  \\\n",
              "2  [api, perl, mikrotik]  Does anyone know how to enable mikrotik router...   \n",
              "\n",
              "   is_answered  view_count  creation_date  last_activity_date  \\\n",
              "2        False          28     1651791013          1651857121   \n",
              "\n",
              "                                                link display_name  reputation  \\\n",
              "2  https://stackoverflow.com/questions/72134387/d...     cherdonp         1.0   \n",
              "\n",
              "                                                link  \n",
              "2  https://stackoverflow.com/users/19047480/cherdonp  "
            ],
            "text/html": [
              "\n",
              "  <div id=\"df-8eb9b0d1-d329-47ec-a291-2e8b37b56c8b\">\n",
              "    <div class=\"colab-df-container\">\n",
              "      <div>\n",
              "<style scoped>\n",
              "    .dataframe tbody tr th:only-of-type {\n",
              "        vertical-align: middle;\n",
              "    }\n",
              "\n",
              "    .dataframe tbody tr th {\n",
              "        vertical-align: top;\n",
              "    }\n",
              "\n",
              "    .dataframe thead th {\n",
              "        text-align: right;\n",
              "    }\n",
              "</style>\n",
              "<table border=\"1\" class=\"dataframe\">\n",
              "  <thead>\n",
              "    <tr style=\"text-align: right;\">\n",
              "      <th></th>\n",
              "      <th>tags</th>\n",
              "      <th>title</th>\n",
              "      <th>is_answered</th>\n",
              "      <th>view_count</th>\n",
              "      <th>creation_date</th>\n",
              "      <th>last_activity_date</th>\n",
              "      <th>link</th>\n",
              "      <th>display_name</th>\n",
              "      <th>reputation</th>\n",
              "      <th>link</th>\n",
              "    </tr>\n",
              "  </thead>\n",
              "  <tbody>\n",
              "    <tr>\n",
              "      <th>2</th>\n",
              "      <td>[api, perl, mikrotik]</td>\n",
              "      <td>Does anyone know how to enable mikrotik router...</td>\n",
              "      <td>False</td>\n",
              "      <td>28</td>\n",
              "      <td>1651791013</td>\n",
              "      <td>1651857121</td>\n",
              "      <td>https://stackoverflow.com/questions/72134387/d...</td>\n",
              "      <td>cherdonp</td>\n",
              "      <td>1.0</td>\n",
              "      <td>https://stackoverflow.com/users/19047480/cherdonp</td>\n",
              "    </tr>\n",
              "  </tbody>\n",
              "</table>\n",
              "</div>\n",
              "      <button class=\"colab-df-convert\" onclick=\"convertToInteractive('df-8eb9b0d1-d329-47ec-a291-2e8b37b56c8b')\"\n",
              "              title=\"Convert this dataframe to an interactive table.\"\n",
              "              style=\"display:none;\">\n",
              "        \n",
              "  <svg xmlns=\"http://www.w3.org/2000/svg\" height=\"24px\"viewBox=\"0 0 24 24\"\n",
              "       width=\"24px\">\n",
              "    <path d=\"M0 0h24v24H0V0z\" fill=\"none\"/>\n",
              "    <path d=\"M18.56 5.44l.94 2.06.94-2.06 2.06-.94-2.06-.94-.94-2.06-.94 2.06-2.06.94zm-11 1L8.5 8.5l.94-2.06 2.06-.94-2.06-.94L8.5 2.5l-.94 2.06-2.06.94zm10 10l.94 2.06.94-2.06 2.06-.94-2.06-.94-.94-2.06-.94 2.06-2.06.94z\"/><path d=\"M17.41 7.96l-1.37-1.37c-.4-.4-.92-.59-1.43-.59-.52 0-1.04.2-1.43.59L10.3 9.45l-7.72 7.72c-.78.78-.78 2.05 0 2.83L4 21.41c.39.39.9.59 1.41.59.51 0 1.02-.2 1.41-.59l7.78-7.78 2.81-2.81c.8-.78.8-2.07 0-2.86zM5.41 20L4 18.59l7.72-7.72 1.47 1.35L5.41 20z\"/>\n",
              "  </svg>\n",
              "      </button>\n",
              "      \n",
              "  <style>\n",
              "    .colab-df-container {\n",
              "      display:flex;\n",
              "      flex-wrap:wrap;\n",
              "      gap: 12px;\n",
              "    }\n",
              "\n",
              "    .colab-df-convert {\n",
              "      background-color: #E8F0FE;\n",
              "      border: none;\n",
              "      border-radius: 50%;\n",
              "      cursor: pointer;\n",
              "      display: none;\n",
              "      fill: #1967D2;\n",
              "      height: 32px;\n",
              "      padding: 0 0 0 0;\n",
              "      width: 32px;\n",
              "    }\n",
              "\n",
              "    .colab-df-convert:hover {\n",
              "      background-color: #E2EBFA;\n",
              "      box-shadow: 0px 1px 2px rgba(60, 64, 67, 0.3), 0px 1px 3px 1px rgba(60, 64, 67, 0.15);\n",
              "      fill: #174EA6;\n",
              "    }\n",
              "\n",
              "    [theme=dark] .colab-df-convert {\n",
              "      background-color: #3B4455;\n",
              "      fill: #D2E3FC;\n",
              "    }\n",
              "\n",
              "    [theme=dark] .colab-df-convert:hover {\n",
              "      background-color: #434B5C;\n",
              "      box-shadow: 0px 1px 3px 1px rgba(0, 0, 0, 0.15);\n",
              "      filter: drop-shadow(0px 1px 2px rgba(0, 0, 0, 0.3));\n",
              "      fill: #FFFFFF;\n",
              "    }\n",
              "  </style>\n",
              "\n",
              "      <script>\n",
              "        const buttonEl =\n",
              "          document.querySelector('#df-8eb9b0d1-d329-47ec-a291-2e8b37b56c8b button.colab-df-convert');\n",
              "        buttonEl.style.display =\n",
              "          google.colab.kernel.accessAllowed ? 'block' : 'none';\n",
              "\n",
              "        async function convertToInteractive(key) {\n",
              "          const element = document.querySelector('#df-8eb9b0d1-d329-47ec-a291-2e8b37b56c8b');\n",
              "          const dataTable =\n",
              "            await google.colab.kernel.invokeFunction('convertToInteractive',\n",
              "                                                     [key], {});\n",
              "          if (!dataTable) return;\n",
              "\n",
              "          const docLinkHtml = 'Like what you see? Visit the ' +\n",
              "            '<a target=\"_blank\" href=https://colab.research.google.com/notebooks/data_table.ipynb>data table notebook</a>'\n",
              "            + ' to learn more about interactive tables.';\n",
              "          element.innerHTML = '';\n",
              "          dataTable['output_type'] = 'display_data';\n",
              "          await google.colab.output.renderOutput(dataTable, element);\n",
              "          const docLink = document.createElement('div');\n",
              "          docLink.innerHTML = docLinkHtml;\n",
              "          element.appendChild(docLink);\n",
              "        }\n",
              "      </script>\n",
              "    </div>\n",
              "  </div>\n",
              "  "
            ]
          },
          "metadata": {},
          "execution_count": 111
        }
      ]
    },
    {
      "cell_type": "markdown",
      "source": [
        "##Respuesta mas actual y mas vieja"
      ],
      "metadata": {
        "id": "VVINaIDOuNuh"
      }
    },
    {
      "cell_type": "code",
      "source": [
        "newest = sample_df['creation_date'].min()\n",
        "df_newest = sample_df[sample_df['creation_date'] == newest]\n",
        "df_newest"
      ],
      "metadata": {
        "colab": {
          "base_uri": "https://localhost:8080/",
          "height": 229
        },
        "id": "knPn_pNbuUZQ",
        "outputId": "1fc00c68-5c64-4e9c-e610-aa2bfd11d094"
      },
      "execution_count": 124,
      "outputs": [
        {
          "output_type": "execute_result",
          "data": {
            "text/plain": [
              "              tags                                          title  \\\n",
              "29  [perl, locale]  How to fix a locale setting warning from Perl   \n",
              "\n",
              "    is_answered  view_count creation_date last_activity_date  \\\n",
              "29         True      655072    2010-03-23         2022-05-02   \n",
              "\n",
              "                                                 link display_name  \\\n",
              "29  https://stackoverflow.com/questions/2499794/ho...         xain   \n",
              "\n",
              "    reputation                                         link  \n",
              "29     12140.0  https://stackoverflow.com/users/253944/xain  "
            ],
            "text/html": [
              "\n",
              "  <div id=\"df-ad55ef3a-5508-422e-afb7-97ce5cd27e03\">\n",
              "    <div class=\"colab-df-container\">\n",
              "      <div>\n",
              "<style scoped>\n",
              "    .dataframe tbody tr th:only-of-type {\n",
              "        vertical-align: middle;\n",
              "    }\n",
              "\n",
              "    .dataframe tbody tr th {\n",
              "        vertical-align: top;\n",
              "    }\n",
              "\n",
              "    .dataframe thead th {\n",
              "        text-align: right;\n",
              "    }\n",
              "</style>\n",
              "<table border=\"1\" class=\"dataframe\">\n",
              "  <thead>\n",
              "    <tr style=\"text-align: right;\">\n",
              "      <th></th>\n",
              "      <th>tags</th>\n",
              "      <th>title</th>\n",
              "      <th>is_answered</th>\n",
              "      <th>view_count</th>\n",
              "      <th>creation_date</th>\n",
              "      <th>last_activity_date</th>\n",
              "      <th>link</th>\n",
              "      <th>display_name</th>\n",
              "      <th>reputation</th>\n",
              "      <th>link</th>\n",
              "    </tr>\n",
              "  </thead>\n",
              "  <tbody>\n",
              "    <tr>\n",
              "      <th>29</th>\n",
              "      <td>[perl, locale]</td>\n",
              "      <td>How to fix a locale setting warning from Perl</td>\n",
              "      <td>True</td>\n",
              "      <td>655072</td>\n",
              "      <td>2010-03-23</td>\n",
              "      <td>2022-05-02</td>\n",
              "      <td>https://stackoverflow.com/questions/2499794/ho...</td>\n",
              "      <td>xain</td>\n",
              "      <td>12140.0</td>\n",
              "      <td>https://stackoverflow.com/users/253944/xain</td>\n",
              "    </tr>\n",
              "  </tbody>\n",
              "</table>\n",
              "</div>\n",
              "      <button class=\"colab-df-convert\" onclick=\"convertToInteractive('df-ad55ef3a-5508-422e-afb7-97ce5cd27e03')\"\n",
              "              title=\"Convert this dataframe to an interactive table.\"\n",
              "              style=\"display:none;\">\n",
              "        \n",
              "  <svg xmlns=\"http://www.w3.org/2000/svg\" height=\"24px\"viewBox=\"0 0 24 24\"\n",
              "       width=\"24px\">\n",
              "    <path d=\"M0 0h24v24H0V0z\" fill=\"none\"/>\n",
              "    <path d=\"M18.56 5.44l.94 2.06.94-2.06 2.06-.94-2.06-.94-.94-2.06-.94 2.06-2.06.94zm-11 1L8.5 8.5l.94-2.06 2.06-.94-2.06-.94L8.5 2.5l-.94 2.06-2.06.94zm10 10l.94 2.06.94-2.06 2.06-.94-2.06-.94-.94-2.06-.94 2.06-2.06.94z\"/><path d=\"M17.41 7.96l-1.37-1.37c-.4-.4-.92-.59-1.43-.59-.52 0-1.04.2-1.43.59L10.3 9.45l-7.72 7.72c-.78.78-.78 2.05 0 2.83L4 21.41c.39.39.9.59 1.41.59.51 0 1.02-.2 1.41-.59l7.78-7.78 2.81-2.81c.8-.78.8-2.07 0-2.86zM5.41 20L4 18.59l7.72-7.72 1.47 1.35L5.41 20z\"/>\n",
              "  </svg>\n",
              "      </button>\n",
              "      \n",
              "  <style>\n",
              "    .colab-df-container {\n",
              "      display:flex;\n",
              "      flex-wrap:wrap;\n",
              "      gap: 12px;\n",
              "    }\n",
              "\n",
              "    .colab-df-convert {\n",
              "      background-color: #E8F0FE;\n",
              "      border: none;\n",
              "      border-radius: 50%;\n",
              "      cursor: pointer;\n",
              "      display: none;\n",
              "      fill: #1967D2;\n",
              "      height: 32px;\n",
              "      padding: 0 0 0 0;\n",
              "      width: 32px;\n",
              "    }\n",
              "\n",
              "    .colab-df-convert:hover {\n",
              "      background-color: #E2EBFA;\n",
              "      box-shadow: 0px 1px 2px rgba(60, 64, 67, 0.3), 0px 1px 3px 1px rgba(60, 64, 67, 0.15);\n",
              "      fill: #174EA6;\n",
              "    }\n",
              "\n",
              "    [theme=dark] .colab-df-convert {\n",
              "      background-color: #3B4455;\n",
              "      fill: #D2E3FC;\n",
              "    }\n",
              "\n",
              "    [theme=dark] .colab-df-convert:hover {\n",
              "      background-color: #434B5C;\n",
              "      box-shadow: 0px 1px 3px 1px rgba(0, 0, 0, 0.15);\n",
              "      filter: drop-shadow(0px 1px 2px rgba(0, 0, 0, 0.3));\n",
              "      fill: #FFFFFF;\n",
              "    }\n",
              "  </style>\n",
              "\n",
              "      <script>\n",
              "        const buttonEl =\n",
              "          document.querySelector('#df-ad55ef3a-5508-422e-afb7-97ce5cd27e03 button.colab-df-convert');\n",
              "        buttonEl.style.display =\n",
              "          google.colab.kernel.accessAllowed ? 'block' : 'none';\n",
              "\n",
              "        async function convertToInteractive(key) {\n",
              "          const element = document.querySelector('#df-ad55ef3a-5508-422e-afb7-97ce5cd27e03');\n",
              "          const dataTable =\n",
              "            await google.colab.kernel.invokeFunction('convertToInteractive',\n",
              "                                                     [key], {});\n",
              "          if (!dataTable) return;\n",
              "\n",
              "          const docLinkHtml = 'Like what you see? Visit the ' +\n",
              "            '<a target=\"_blank\" href=https://colab.research.google.com/notebooks/data_table.ipynb>data table notebook</a>'\n",
              "            + ' to learn more about interactive tables.';\n",
              "          element.innerHTML = '';\n",
              "          dataTable['output_type'] = 'display_data';\n",
              "          await google.colab.output.renderOutput(dataTable, element);\n",
              "          const docLink = document.createElement('div');\n",
              "          docLink.innerHTML = docLinkHtml;\n",
              "          element.appendChild(docLink);\n",
              "        }\n",
              "      </script>\n",
              "    </div>\n",
              "  </div>\n",
              "  "
            ]
          },
          "metadata": {},
          "execution_count": 124
        }
      ]
    },
    {
      "cell_type": "code",
      "source": [
        "oldest = sample_df['creation_date'].max()\n",
        "df_oldest = sample_df[sample_df['creation_date'] == oldest]\n",
        "df_oldest"
      ],
      "metadata": {
        "colab": {
          "base_uri": "https://localhost:8080/",
          "height": 315
        },
        "id": "5GXb4Vu8u_mA",
        "outputId": "2a1a75b5-8d19-4244-93e9-c267314fa257"
      },
      "execution_count": 126,
      "outputs": [
        {
          "output_type": "execute_result",
          "data": {
            "text/plain": [
              "                    tags                                              title  \\\n",
              "3  [regex, perl, printf]  Convert Json string literals to utf8 character...   \n",
              "4                 [perl]           what the following syntax means in perl?   \n",
              "\n",
              "   is_answered  view_count creation_date last_activity_date  \\\n",
              "3        False          33    2022-05-06         2022-05-06   \n",
              "4         True          46    2022-05-06         2022-05-06   \n",
              "\n",
              "                                                link  display_name  \\\n",
              "3  https://stackoverflow.com/questions/72144503/c...  Daniel Brown   \n",
              "4  https://stackoverflow.com/questions/72135233/w...     maersa123   \n",
              "\n",
              "   reputation                                               link  \n",
              "3      1076.0  https://stackoverflow.com/users/994486/daniel-...  \n",
              "4        19.0  https://stackoverflow.com/users/19048393/maers...  "
            ],
            "text/html": [
              "\n",
              "  <div id=\"df-0bc0249b-8593-4420-a0df-0c3943b16f2e\">\n",
              "    <div class=\"colab-df-container\">\n",
              "      <div>\n",
              "<style scoped>\n",
              "    .dataframe tbody tr th:only-of-type {\n",
              "        vertical-align: middle;\n",
              "    }\n",
              "\n",
              "    .dataframe tbody tr th {\n",
              "        vertical-align: top;\n",
              "    }\n",
              "\n",
              "    .dataframe thead th {\n",
              "        text-align: right;\n",
              "    }\n",
              "</style>\n",
              "<table border=\"1\" class=\"dataframe\">\n",
              "  <thead>\n",
              "    <tr style=\"text-align: right;\">\n",
              "      <th></th>\n",
              "      <th>tags</th>\n",
              "      <th>title</th>\n",
              "      <th>is_answered</th>\n",
              "      <th>view_count</th>\n",
              "      <th>creation_date</th>\n",
              "      <th>last_activity_date</th>\n",
              "      <th>link</th>\n",
              "      <th>display_name</th>\n",
              "      <th>reputation</th>\n",
              "      <th>link</th>\n",
              "    </tr>\n",
              "  </thead>\n",
              "  <tbody>\n",
              "    <tr>\n",
              "      <th>3</th>\n",
              "      <td>[regex, perl, printf]</td>\n",
              "      <td>Convert Json string literals to utf8 character...</td>\n",
              "      <td>False</td>\n",
              "      <td>33</td>\n",
              "      <td>2022-05-06</td>\n",
              "      <td>2022-05-06</td>\n",
              "      <td>https://stackoverflow.com/questions/72144503/c...</td>\n",
              "      <td>Daniel Brown</td>\n",
              "      <td>1076.0</td>\n",
              "      <td>https://stackoverflow.com/users/994486/daniel-...</td>\n",
              "    </tr>\n",
              "    <tr>\n",
              "      <th>4</th>\n",
              "      <td>[perl]</td>\n",
              "      <td>what the following syntax means in perl?</td>\n",
              "      <td>True</td>\n",
              "      <td>46</td>\n",
              "      <td>2022-05-06</td>\n",
              "      <td>2022-05-06</td>\n",
              "      <td>https://stackoverflow.com/questions/72135233/w...</td>\n",
              "      <td>maersa123</td>\n",
              "      <td>19.0</td>\n",
              "      <td>https://stackoverflow.com/users/19048393/maers...</td>\n",
              "    </tr>\n",
              "  </tbody>\n",
              "</table>\n",
              "</div>\n",
              "      <button class=\"colab-df-convert\" onclick=\"convertToInteractive('df-0bc0249b-8593-4420-a0df-0c3943b16f2e')\"\n",
              "              title=\"Convert this dataframe to an interactive table.\"\n",
              "              style=\"display:none;\">\n",
              "        \n",
              "  <svg xmlns=\"http://www.w3.org/2000/svg\" height=\"24px\"viewBox=\"0 0 24 24\"\n",
              "       width=\"24px\">\n",
              "    <path d=\"M0 0h24v24H0V0z\" fill=\"none\"/>\n",
              "    <path d=\"M18.56 5.44l.94 2.06.94-2.06 2.06-.94-2.06-.94-.94-2.06-.94 2.06-2.06.94zm-11 1L8.5 8.5l.94-2.06 2.06-.94-2.06-.94L8.5 2.5l-.94 2.06-2.06.94zm10 10l.94 2.06.94-2.06 2.06-.94-2.06-.94-.94-2.06-.94 2.06-2.06.94z\"/><path d=\"M17.41 7.96l-1.37-1.37c-.4-.4-.92-.59-1.43-.59-.52 0-1.04.2-1.43.59L10.3 9.45l-7.72 7.72c-.78.78-.78 2.05 0 2.83L4 21.41c.39.39.9.59 1.41.59.51 0 1.02-.2 1.41-.59l7.78-7.78 2.81-2.81c.8-.78.8-2.07 0-2.86zM5.41 20L4 18.59l7.72-7.72 1.47 1.35L5.41 20z\"/>\n",
              "  </svg>\n",
              "      </button>\n",
              "      \n",
              "  <style>\n",
              "    .colab-df-container {\n",
              "      display:flex;\n",
              "      flex-wrap:wrap;\n",
              "      gap: 12px;\n",
              "    }\n",
              "\n",
              "    .colab-df-convert {\n",
              "      background-color: #E8F0FE;\n",
              "      border: none;\n",
              "      border-radius: 50%;\n",
              "      cursor: pointer;\n",
              "      display: none;\n",
              "      fill: #1967D2;\n",
              "      height: 32px;\n",
              "      padding: 0 0 0 0;\n",
              "      width: 32px;\n",
              "    }\n",
              "\n",
              "    .colab-df-convert:hover {\n",
              "      background-color: #E2EBFA;\n",
              "      box-shadow: 0px 1px 2px rgba(60, 64, 67, 0.3), 0px 1px 3px 1px rgba(60, 64, 67, 0.15);\n",
              "      fill: #174EA6;\n",
              "    }\n",
              "\n",
              "    [theme=dark] .colab-df-convert {\n",
              "      background-color: #3B4455;\n",
              "      fill: #D2E3FC;\n",
              "    }\n",
              "\n",
              "    [theme=dark] .colab-df-convert:hover {\n",
              "      background-color: #434B5C;\n",
              "      box-shadow: 0px 1px 3px 1px rgba(0, 0, 0, 0.15);\n",
              "      filter: drop-shadow(0px 1px 2px rgba(0, 0, 0, 0.3));\n",
              "      fill: #FFFFFF;\n",
              "    }\n",
              "  </style>\n",
              "\n",
              "      <script>\n",
              "        const buttonEl =\n",
              "          document.querySelector('#df-0bc0249b-8593-4420-a0df-0c3943b16f2e button.colab-df-convert');\n",
              "        buttonEl.style.display =\n",
              "          google.colab.kernel.accessAllowed ? 'block' : 'none';\n",
              "\n",
              "        async function convertToInteractive(key) {\n",
              "          const element = document.querySelector('#df-0bc0249b-8593-4420-a0df-0c3943b16f2e');\n",
              "          const dataTable =\n",
              "            await google.colab.kernel.invokeFunction('convertToInteractive',\n",
              "                                                     [key], {});\n",
              "          if (!dataTable) return;\n",
              "\n",
              "          const docLinkHtml = 'Like what you see? Visit the ' +\n",
              "            '<a target=\"_blank\" href=https://colab.research.google.com/notebooks/data_table.ipynb>data table notebook</a>'\n",
              "            + ' to learn more about interactive tables.';\n",
              "          element.innerHTML = '';\n",
              "          dataTable['output_type'] = 'display_data';\n",
              "          await google.colab.output.renderOutput(dataTable, element);\n",
              "          const docLink = document.createElement('div');\n",
              "          docLink.innerHTML = docLinkHtml;\n",
              "          element.appendChild(docLink);\n",
              "        }\n",
              "      </script>\n",
              "    </div>\n",
              "  </div>\n",
              "  "
            ]
          },
          "metadata": {},
          "execution_count": 126
        }
      ]
    },
    {
      "cell_type": "markdown",
      "source": [
        "##Owner con mayor reputacion\n"
      ],
      "metadata": {
        "id": "TN5by7FQvXRe"
      }
    },
    {
      "cell_type": "code",
      "source": [
        "max_rep = sample_df['reputation'].max()\n",
        "df_reputation = sample_df[sample_df['reputation'] == max_rep]\n",
        "df_reputation"
      ],
      "metadata": {
        "colab": {
          "base_uri": "https://localhost:8080/",
          "height": 214
        },
        "id": "ZRvLdqf6vG7o",
        "outputId": "bff1f629-0305-473a-95fb-4b0e7a00d892"
      },
      "execution_count": 130,
      "outputs": [
        {
          "output_type": "execute_result",
          "data": {
            "text/plain": [
              "                                 tags  \\\n",
              "26  [python, ruby, perl, bash, shell]   \n",
              "\n",
              "                                                title  is_answered  \\\n",
              "26  Why are scripting languages (e.g. Perl, Python...         True   \n",
              "\n",
              "    view_count creation_date last_activity_date  \\\n",
              "26       65994    2010-09-03         2022-05-02   \n",
              "\n",
              "                                                 link        display_name  \\\n",
              "26  https://stackoverflow.com/questions/3637668/wh...  Muhammad Alkarouri   \n",
              "\n",
              "    reputation                                               link  \n",
              "26     22628.0  https://stackoverflow.com/users/336455/muhamma...  "
            ],
            "text/html": [
              "\n",
              "  <div id=\"df-929711f3-ef8b-497f-8dc0-0eaf852fe4d2\">\n",
              "    <div class=\"colab-df-container\">\n",
              "      <div>\n",
              "<style scoped>\n",
              "    .dataframe tbody tr th:only-of-type {\n",
              "        vertical-align: middle;\n",
              "    }\n",
              "\n",
              "    .dataframe tbody tr th {\n",
              "        vertical-align: top;\n",
              "    }\n",
              "\n",
              "    .dataframe thead th {\n",
              "        text-align: right;\n",
              "    }\n",
              "</style>\n",
              "<table border=\"1\" class=\"dataframe\">\n",
              "  <thead>\n",
              "    <tr style=\"text-align: right;\">\n",
              "      <th></th>\n",
              "      <th>tags</th>\n",
              "      <th>title</th>\n",
              "      <th>is_answered</th>\n",
              "      <th>view_count</th>\n",
              "      <th>creation_date</th>\n",
              "      <th>last_activity_date</th>\n",
              "      <th>link</th>\n",
              "      <th>display_name</th>\n",
              "      <th>reputation</th>\n",
              "      <th>link</th>\n",
              "    </tr>\n",
              "  </thead>\n",
              "  <tbody>\n",
              "    <tr>\n",
              "      <th>26</th>\n",
              "      <td>[python, ruby, perl, bash, shell]</td>\n",
              "      <td>Why are scripting languages (e.g. Perl, Python...</td>\n",
              "      <td>True</td>\n",
              "      <td>65994</td>\n",
              "      <td>2010-09-03</td>\n",
              "      <td>2022-05-02</td>\n",
              "      <td>https://stackoverflow.com/questions/3637668/wh...</td>\n",
              "      <td>Muhammad Alkarouri</td>\n",
              "      <td>22628.0</td>\n",
              "      <td>https://stackoverflow.com/users/336455/muhamma...</td>\n",
              "    </tr>\n",
              "  </tbody>\n",
              "</table>\n",
              "</div>\n",
              "      <button class=\"colab-df-convert\" onclick=\"convertToInteractive('df-929711f3-ef8b-497f-8dc0-0eaf852fe4d2')\"\n",
              "              title=\"Convert this dataframe to an interactive table.\"\n",
              "              style=\"display:none;\">\n",
              "        \n",
              "  <svg xmlns=\"http://www.w3.org/2000/svg\" height=\"24px\"viewBox=\"0 0 24 24\"\n",
              "       width=\"24px\">\n",
              "    <path d=\"M0 0h24v24H0V0z\" fill=\"none\"/>\n",
              "    <path d=\"M18.56 5.44l.94 2.06.94-2.06 2.06-.94-2.06-.94-.94-2.06-.94 2.06-2.06.94zm-11 1L8.5 8.5l.94-2.06 2.06-.94-2.06-.94L8.5 2.5l-.94 2.06-2.06.94zm10 10l.94 2.06.94-2.06 2.06-.94-2.06-.94-.94-2.06-.94 2.06-2.06.94z\"/><path d=\"M17.41 7.96l-1.37-1.37c-.4-.4-.92-.59-1.43-.59-.52 0-1.04.2-1.43.59L10.3 9.45l-7.72 7.72c-.78.78-.78 2.05 0 2.83L4 21.41c.39.39.9.59 1.41.59.51 0 1.02-.2 1.41-.59l7.78-7.78 2.81-2.81c.8-.78.8-2.07 0-2.86zM5.41 20L4 18.59l7.72-7.72 1.47 1.35L5.41 20z\"/>\n",
              "  </svg>\n",
              "      </button>\n",
              "      \n",
              "  <style>\n",
              "    .colab-df-container {\n",
              "      display:flex;\n",
              "      flex-wrap:wrap;\n",
              "      gap: 12px;\n",
              "    }\n",
              "\n",
              "    .colab-df-convert {\n",
              "      background-color: #E8F0FE;\n",
              "      border: none;\n",
              "      border-radius: 50%;\n",
              "      cursor: pointer;\n",
              "      display: none;\n",
              "      fill: #1967D2;\n",
              "      height: 32px;\n",
              "      padding: 0 0 0 0;\n",
              "      width: 32px;\n",
              "    }\n",
              "\n",
              "    .colab-df-convert:hover {\n",
              "      background-color: #E2EBFA;\n",
              "      box-shadow: 0px 1px 2px rgba(60, 64, 67, 0.3), 0px 1px 3px 1px rgba(60, 64, 67, 0.15);\n",
              "      fill: #174EA6;\n",
              "    }\n",
              "\n",
              "    [theme=dark] .colab-df-convert {\n",
              "      background-color: #3B4455;\n",
              "      fill: #D2E3FC;\n",
              "    }\n",
              "\n",
              "    [theme=dark] .colab-df-convert:hover {\n",
              "      background-color: #434B5C;\n",
              "      box-shadow: 0px 1px 3px 1px rgba(0, 0, 0, 0.15);\n",
              "      filter: drop-shadow(0px 1px 2px rgba(0, 0, 0, 0.3));\n",
              "      fill: #FFFFFF;\n",
              "    }\n",
              "  </style>\n",
              "\n",
              "      <script>\n",
              "        const buttonEl =\n",
              "          document.querySelector('#df-929711f3-ef8b-497f-8dc0-0eaf852fe4d2 button.colab-df-convert');\n",
              "        buttonEl.style.display =\n",
              "          google.colab.kernel.accessAllowed ? 'block' : 'none';\n",
              "\n",
              "        async function convertToInteractive(key) {\n",
              "          const element = document.querySelector('#df-929711f3-ef8b-497f-8dc0-0eaf852fe4d2');\n",
              "          const dataTable =\n",
              "            await google.colab.kernel.invokeFunction('convertToInteractive',\n",
              "                                                     [key], {});\n",
              "          if (!dataTable) return;\n",
              "\n",
              "          const docLinkHtml = 'Like what you see? Visit the ' +\n",
              "            '<a target=\"_blank\" href=https://colab.research.google.com/notebooks/data_table.ipynb>data table notebook</a>'\n",
              "            + ' to learn more about interactive tables.';\n",
              "          element.innerHTML = '';\n",
              "          dataTable['output_type'] = 'display_data';\n",
              "          await google.colab.output.renderOutput(dataTable, element);\n",
              "          const docLink = document.createElement('div');\n",
              "          docLink.innerHTML = docLinkHtml;\n",
              "          element.appendChild(docLink);\n",
              "        }\n",
              "      </script>\n",
              "    </div>\n",
              "  </div>\n",
              "  "
            ]
          },
          "metadata": {},
          "execution_count": 130
        }
      ]
    },
    {
      "cell_type": "code",
      "source": [
        "df_reputation[['tags', 'title', 'display_name']]"
      ],
      "metadata": {
        "colab": {
          "base_uri": "https://localhost:8080/",
          "height": 129
        },
        "id": "Vb1XcmZXv1y_",
        "outputId": "23b17c5f-bbec-4ce4-824b-500a97f65c88"
      },
      "execution_count": 138,
      "outputs": [
        {
          "output_type": "execute_result",
          "data": {
            "text/plain": [
              "                                 tags  \\\n",
              "26  [python, ruby, perl, bash, shell]   \n",
              "\n",
              "                                                title        display_name  \n",
              "26  Why are scripting languages (e.g. Perl, Python...  Muhammad Alkarouri  "
            ],
            "text/html": [
              "\n",
              "  <div id=\"df-cb5b93ff-6b86-4b34-b705-b452e6b55a8a\">\n",
              "    <div class=\"colab-df-container\">\n",
              "      <div>\n",
              "<style scoped>\n",
              "    .dataframe tbody tr th:only-of-type {\n",
              "        vertical-align: middle;\n",
              "    }\n",
              "\n",
              "    .dataframe tbody tr th {\n",
              "        vertical-align: top;\n",
              "    }\n",
              "\n",
              "    .dataframe thead th {\n",
              "        text-align: right;\n",
              "    }\n",
              "</style>\n",
              "<table border=\"1\" class=\"dataframe\">\n",
              "  <thead>\n",
              "    <tr style=\"text-align: right;\">\n",
              "      <th></th>\n",
              "      <th>tags</th>\n",
              "      <th>title</th>\n",
              "      <th>display_name</th>\n",
              "    </tr>\n",
              "  </thead>\n",
              "  <tbody>\n",
              "    <tr>\n",
              "      <th>26</th>\n",
              "      <td>[python, ruby, perl, bash, shell]</td>\n",
              "      <td>Why are scripting languages (e.g. Perl, Python...</td>\n",
              "      <td>Muhammad Alkarouri</td>\n",
              "    </tr>\n",
              "  </tbody>\n",
              "</table>\n",
              "</div>\n",
              "      <button class=\"colab-df-convert\" onclick=\"convertToInteractive('df-cb5b93ff-6b86-4b34-b705-b452e6b55a8a')\"\n",
              "              title=\"Convert this dataframe to an interactive table.\"\n",
              "              style=\"display:none;\">\n",
              "        \n",
              "  <svg xmlns=\"http://www.w3.org/2000/svg\" height=\"24px\"viewBox=\"0 0 24 24\"\n",
              "       width=\"24px\">\n",
              "    <path d=\"M0 0h24v24H0V0z\" fill=\"none\"/>\n",
              "    <path d=\"M18.56 5.44l.94 2.06.94-2.06 2.06-.94-2.06-.94-.94-2.06-.94 2.06-2.06.94zm-11 1L8.5 8.5l.94-2.06 2.06-.94-2.06-.94L8.5 2.5l-.94 2.06-2.06.94zm10 10l.94 2.06.94-2.06 2.06-.94-2.06-.94-.94-2.06-.94 2.06-2.06.94z\"/><path d=\"M17.41 7.96l-1.37-1.37c-.4-.4-.92-.59-1.43-.59-.52 0-1.04.2-1.43.59L10.3 9.45l-7.72 7.72c-.78.78-.78 2.05 0 2.83L4 21.41c.39.39.9.59 1.41.59.51 0 1.02-.2 1.41-.59l7.78-7.78 2.81-2.81c.8-.78.8-2.07 0-2.86zM5.41 20L4 18.59l7.72-7.72 1.47 1.35L5.41 20z\"/>\n",
              "  </svg>\n",
              "      </button>\n",
              "      \n",
              "  <style>\n",
              "    .colab-df-container {\n",
              "      display:flex;\n",
              "      flex-wrap:wrap;\n",
              "      gap: 12px;\n",
              "    }\n",
              "\n",
              "    .colab-df-convert {\n",
              "      background-color: #E8F0FE;\n",
              "      border: none;\n",
              "      border-radius: 50%;\n",
              "      cursor: pointer;\n",
              "      display: none;\n",
              "      fill: #1967D2;\n",
              "      height: 32px;\n",
              "      padding: 0 0 0 0;\n",
              "      width: 32px;\n",
              "    }\n",
              "\n",
              "    .colab-df-convert:hover {\n",
              "      background-color: #E2EBFA;\n",
              "      box-shadow: 0px 1px 2px rgba(60, 64, 67, 0.3), 0px 1px 3px 1px rgba(60, 64, 67, 0.15);\n",
              "      fill: #174EA6;\n",
              "    }\n",
              "\n",
              "    [theme=dark] .colab-df-convert {\n",
              "      background-color: #3B4455;\n",
              "      fill: #D2E3FC;\n",
              "    }\n",
              "\n",
              "    [theme=dark] .colab-df-convert:hover {\n",
              "      background-color: #434B5C;\n",
              "      box-shadow: 0px 1px 3px 1px rgba(0, 0, 0, 0.15);\n",
              "      filter: drop-shadow(0px 1px 2px rgba(0, 0, 0, 0.3));\n",
              "      fill: #FFFFFF;\n",
              "    }\n",
              "  </style>\n",
              "\n",
              "      <script>\n",
              "        const buttonEl =\n",
              "          document.querySelector('#df-cb5b93ff-6b86-4b34-b705-b452e6b55a8a button.colab-df-convert');\n",
              "        buttonEl.style.display =\n",
              "          google.colab.kernel.accessAllowed ? 'block' : 'none';\n",
              "\n",
              "        async function convertToInteractive(key) {\n",
              "          const element = document.querySelector('#df-cb5b93ff-6b86-4b34-b705-b452e6b55a8a');\n",
              "          const dataTable =\n",
              "            await google.colab.kernel.invokeFunction('convertToInteractive',\n",
              "                                                     [key], {});\n",
              "          if (!dataTable) return;\n",
              "\n",
              "          const docLinkHtml = 'Like what you see? Visit the ' +\n",
              "            '<a target=\"_blank\" href=https://colab.research.google.com/notebooks/data_table.ipynb>data table notebook</a>'\n",
              "            + ' to learn more about interactive tables.';\n",
              "          element.innerHTML = '';\n",
              "          dataTable['output_type'] = 'display_data';\n",
              "          await google.colab.output.renderOutput(dataTable, element);\n",
              "          const docLink = document.createElement('div');\n",
              "          docLink.innerHTML = docLinkHtml;\n",
              "          element.appendChild(docLink);\n",
              "        }\n",
              "      </script>\n",
              "    </div>\n",
              "  </div>\n",
              "  "
            ]
          },
          "metadata": {},
          "execution_count": 138
        }
      ]
    },
    {
      "cell_type": "markdown",
      "source": [
        "##Datos del 2 al 6"
      ],
      "metadata": {
        "id": "LCHakIKHxC0z"
      }
    },
    {
      "cell_type": "code",
      "source": [
        "df[1:5]"
      ],
      "metadata": {
        "colab": {
          "base_uri": "https://localhost:8080/",
          "height": 551
        },
        "id": "IXtrC6ITxFBV",
        "outputId": "fe5f6b0e-1ecb-4b25-8e89-59d92773f710"
      },
      "execution_count": 140,
      "outputs": [
        {
          "output_type": "execute_result",
          "data": {
            "text/plain": [
              "                          tags  \\\n",
              "1  [perl, moose, moosex-types]   \n",
              "2        [api, perl, mikrotik]   \n",
              "3        [regex, perl, printf]   \n",
              "4                       [perl]   \n",
              "\n",
              "                                               owner  is_answered  view_count  \\\n",
              "1  {'reputation': 11, 'user_id': 18835228, 'user_...         True          45   \n",
              "2  {'reputation': 1, 'user_id': 19047480, 'user_t...        False          28   \n",
              "3  {'reputation': 1076, 'user_id': 994486, 'user_...        False          33   \n",
              "4  {'reputation': 19, 'user_id': 19048393, 'user_...         True          46   \n",
              "\n",
              "   closed_date  answer_count  score  last_activity_date  creation_date  \\\n",
              "1          NaN             1      1          1651860318     1651565646   \n",
              "2          NaN             0     -1          1651857121     1651791013   \n",
              "3          NaN             1     -1          1651855813     1651853428   \n",
              "4          NaN             2      2          1651834350     1651800684   \n",
              "\n",
              "   last_edit_date  question_id  \\\n",
              "1    1.651572e+09     72096513   \n",
              "2    1.651792e+09     72134387   \n",
              "3             NaN     72144503   \n",
              "4             NaN     72135233   \n",
              "\n",
              "                                                link closed_reason  \\\n",
              "1  https://stackoverflow.com/questions/72096513/p...           NaN   \n",
              "2  https://stackoverflow.com/questions/72134387/d...           NaN   \n",
              "3  https://stackoverflow.com/questions/72144503/c...           NaN   \n",
              "4  https://stackoverflow.com/questions/72135233/w...           NaN   \n",
              "\n",
              "                                               title content_license  \\\n",
              "1  Perl Moose Dynamic assign the value to attribu...    CC BY-SA 4.0   \n",
              "2  Does anyone know how to enable mikrotik router...    CC BY-SA 4.0   \n",
              "3  Convert Json string literals to utf8 character...    CC BY-SA 4.0   \n",
              "4           what the following syntax means in perl?    CC BY-SA 4.0   \n",
              "\n",
              "   accepted_answer_id  protected_date  \n",
              "1                 NaN             NaN  \n",
              "2                 NaN             NaN  \n",
              "3                 NaN             NaN  \n",
              "4                 NaN             NaN  "
            ],
            "text/html": [
              "\n",
              "  <div id=\"df-1605f923-f676-4ce3-b1b2-044519107ae6\">\n",
              "    <div class=\"colab-df-container\">\n",
              "      <div>\n",
              "<style scoped>\n",
              "    .dataframe tbody tr th:only-of-type {\n",
              "        vertical-align: middle;\n",
              "    }\n",
              "\n",
              "    .dataframe tbody tr th {\n",
              "        vertical-align: top;\n",
              "    }\n",
              "\n",
              "    .dataframe thead th {\n",
              "        text-align: right;\n",
              "    }\n",
              "</style>\n",
              "<table border=\"1\" class=\"dataframe\">\n",
              "  <thead>\n",
              "    <tr style=\"text-align: right;\">\n",
              "      <th></th>\n",
              "      <th>tags</th>\n",
              "      <th>owner</th>\n",
              "      <th>is_answered</th>\n",
              "      <th>view_count</th>\n",
              "      <th>closed_date</th>\n",
              "      <th>answer_count</th>\n",
              "      <th>score</th>\n",
              "      <th>last_activity_date</th>\n",
              "      <th>creation_date</th>\n",
              "      <th>last_edit_date</th>\n",
              "      <th>question_id</th>\n",
              "      <th>link</th>\n",
              "      <th>closed_reason</th>\n",
              "      <th>title</th>\n",
              "      <th>content_license</th>\n",
              "      <th>accepted_answer_id</th>\n",
              "      <th>protected_date</th>\n",
              "    </tr>\n",
              "  </thead>\n",
              "  <tbody>\n",
              "    <tr>\n",
              "      <th>1</th>\n",
              "      <td>[perl, moose, moosex-types]</td>\n",
              "      <td>{'reputation': 11, 'user_id': 18835228, 'user_...</td>\n",
              "      <td>True</td>\n",
              "      <td>45</td>\n",
              "      <td>NaN</td>\n",
              "      <td>1</td>\n",
              "      <td>1</td>\n",
              "      <td>1651860318</td>\n",
              "      <td>1651565646</td>\n",
              "      <td>1.651572e+09</td>\n",
              "      <td>72096513</td>\n",
              "      <td>https://stackoverflow.com/questions/72096513/p...</td>\n",
              "      <td>NaN</td>\n",
              "      <td>Perl Moose Dynamic assign the value to attribu...</td>\n",
              "      <td>CC BY-SA 4.0</td>\n",
              "      <td>NaN</td>\n",
              "      <td>NaN</td>\n",
              "    </tr>\n",
              "    <tr>\n",
              "      <th>2</th>\n",
              "      <td>[api, perl, mikrotik]</td>\n",
              "      <td>{'reputation': 1, 'user_id': 19047480, 'user_t...</td>\n",
              "      <td>False</td>\n",
              "      <td>28</td>\n",
              "      <td>NaN</td>\n",
              "      <td>0</td>\n",
              "      <td>-1</td>\n",
              "      <td>1651857121</td>\n",
              "      <td>1651791013</td>\n",
              "      <td>1.651792e+09</td>\n",
              "      <td>72134387</td>\n",
              "      <td>https://stackoverflow.com/questions/72134387/d...</td>\n",
              "      <td>NaN</td>\n",
              "      <td>Does anyone know how to enable mikrotik router...</td>\n",
              "      <td>CC BY-SA 4.0</td>\n",
              "      <td>NaN</td>\n",
              "      <td>NaN</td>\n",
              "    </tr>\n",
              "    <tr>\n",
              "      <th>3</th>\n",
              "      <td>[regex, perl, printf]</td>\n",
              "      <td>{'reputation': 1076, 'user_id': 994486, 'user_...</td>\n",
              "      <td>False</td>\n",
              "      <td>33</td>\n",
              "      <td>NaN</td>\n",
              "      <td>1</td>\n",
              "      <td>-1</td>\n",
              "      <td>1651855813</td>\n",
              "      <td>1651853428</td>\n",
              "      <td>NaN</td>\n",
              "      <td>72144503</td>\n",
              "      <td>https://stackoverflow.com/questions/72144503/c...</td>\n",
              "      <td>NaN</td>\n",
              "      <td>Convert Json string literals to utf8 character...</td>\n",
              "      <td>CC BY-SA 4.0</td>\n",
              "      <td>NaN</td>\n",
              "      <td>NaN</td>\n",
              "    </tr>\n",
              "    <tr>\n",
              "      <th>4</th>\n",
              "      <td>[perl]</td>\n",
              "      <td>{'reputation': 19, 'user_id': 19048393, 'user_...</td>\n",
              "      <td>True</td>\n",
              "      <td>46</td>\n",
              "      <td>NaN</td>\n",
              "      <td>2</td>\n",
              "      <td>2</td>\n",
              "      <td>1651834350</td>\n",
              "      <td>1651800684</td>\n",
              "      <td>NaN</td>\n",
              "      <td>72135233</td>\n",
              "      <td>https://stackoverflow.com/questions/72135233/w...</td>\n",
              "      <td>NaN</td>\n",
              "      <td>what the following syntax means in perl?</td>\n",
              "      <td>CC BY-SA 4.0</td>\n",
              "      <td>NaN</td>\n",
              "      <td>NaN</td>\n",
              "    </tr>\n",
              "  </tbody>\n",
              "</table>\n",
              "</div>\n",
              "      <button class=\"colab-df-convert\" onclick=\"convertToInteractive('df-1605f923-f676-4ce3-b1b2-044519107ae6')\"\n",
              "              title=\"Convert this dataframe to an interactive table.\"\n",
              "              style=\"display:none;\">\n",
              "        \n",
              "  <svg xmlns=\"http://www.w3.org/2000/svg\" height=\"24px\"viewBox=\"0 0 24 24\"\n",
              "       width=\"24px\">\n",
              "    <path d=\"M0 0h24v24H0V0z\" fill=\"none\"/>\n",
              "    <path d=\"M18.56 5.44l.94 2.06.94-2.06 2.06-.94-2.06-.94-.94-2.06-.94 2.06-2.06.94zm-11 1L8.5 8.5l.94-2.06 2.06-.94-2.06-.94L8.5 2.5l-.94 2.06-2.06.94zm10 10l.94 2.06.94-2.06 2.06-.94-2.06-.94-.94-2.06-.94 2.06-2.06.94z\"/><path d=\"M17.41 7.96l-1.37-1.37c-.4-.4-.92-.59-1.43-.59-.52 0-1.04.2-1.43.59L10.3 9.45l-7.72 7.72c-.78.78-.78 2.05 0 2.83L4 21.41c.39.39.9.59 1.41.59.51 0 1.02-.2 1.41-.59l7.78-7.78 2.81-2.81c.8-.78.8-2.07 0-2.86zM5.41 20L4 18.59l7.72-7.72 1.47 1.35L5.41 20z\"/>\n",
              "  </svg>\n",
              "      </button>\n",
              "      \n",
              "  <style>\n",
              "    .colab-df-container {\n",
              "      display:flex;\n",
              "      flex-wrap:wrap;\n",
              "      gap: 12px;\n",
              "    }\n",
              "\n",
              "    .colab-df-convert {\n",
              "      background-color: #E8F0FE;\n",
              "      border: none;\n",
              "      border-radius: 50%;\n",
              "      cursor: pointer;\n",
              "      display: none;\n",
              "      fill: #1967D2;\n",
              "      height: 32px;\n",
              "      padding: 0 0 0 0;\n",
              "      width: 32px;\n",
              "    }\n",
              "\n",
              "    .colab-df-convert:hover {\n",
              "      background-color: #E2EBFA;\n",
              "      box-shadow: 0px 1px 2px rgba(60, 64, 67, 0.3), 0px 1px 3px 1px rgba(60, 64, 67, 0.15);\n",
              "      fill: #174EA6;\n",
              "    }\n",
              "\n",
              "    [theme=dark] .colab-df-convert {\n",
              "      background-color: #3B4455;\n",
              "      fill: #D2E3FC;\n",
              "    }\n",
              "\n",
              "    [theme=dark] .colab-df-convert:hover {\n",
              "      background-color: #434B5C;\n",
              "      box-shadow: 0px 1px 3px 1px rgba(0, 0, 0, 0.15);\n",
              "      filter: drop-shadow(0px 1px 2px rgba(0, 0, 0, 0.3));\n",
              "      fill: #FFFFFF;\n",
              "    }\n",
              "  </style>\n",
              "\n",
              "      <script>\n",
              "        const buttonEl =\n",
              "          document.querySelector('#df-1605f923-f676-4ce3-b1b2-044519107ae6 button.colab-df-convert');\n",
              "        buttonEl.style.display =\n",
              "          google.colab.kernel.accessAllowed ? 'block' : 'none';\n",
              "\n",
              "        async function convertToInteractive(key) {\n",
              "          const element = document.querySelector('#df-1605f923-f676-4ce3-b1b2-044519107ae6');\n",
              "          const dataTable =\n",
              "            await google.colab.kernel.invokeFunction('convertToInteractive',\n",
              "                                                     [key], {});\n",
              "          if (!dataTable) return;\n",
              "\n",
              "          const docLinkHtml = 'Like what you see? Visit the ' +\n",
              "            '<a target=\"_blank\" href=https://colab.research.google.com/notebooks/data_table.ipynb>data table notebook</a>'\n",
              "            + ' to learn more about interactive tables.';\n",
              "          element.innerHTML = '';\n",
              "          dataTable['output_type'] = 'display_data';\n",
              "          await google.colab.output.renderOutput(dataTable, element);\n",
              "          const docLink = document.createElement('div');\n",
              "          docLink.innerHTML = docLinkHtml;\n",
              "          element.appendChild(docLink);\n",
              "        }\n",
              "      </script>\n",
              "    </div>\n",
              "  </div>\n",
              "  "
            ]
          },
          "metadata": {},
          "execution_count": 140
        }
      ]
    }
  ]
}